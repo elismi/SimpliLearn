{
 "cells": [
  {
   "cell_type": "markdown",
   "metadata": {},
   "source": [
    "# 1. Import the requried libraries"
   ]
  },
  {
   "cell_type": "code",
   "execution_count": 1,
   "metadata": {},
   "outputs": [
    {
     "name": "stdout",
     "output_type": "stream",
     "text": [
      "2.5.0\n"
     ]
    }
   ],
   "source": [
    "import numpy as np\n",
    "from sklearn.model_selection import train_test_split\n",
    "\n",
    "from tensorflow.keras.models import Sequential\n",
    "from tensorflow.keras.layers import Conv2D, MaxPooling2D, Dense, Flatten, Dropout\n",
    "from tensorflow.keras.utils import to_categorical\n",
    "from tensorflow.keras.callbacks import Callback\n",
    "\n",
    "from matplotlib import pyplot as plt\n",
    "\n",
    "import tensorflow as tf\n",
    "print(tf.__version__)"
   ]
  },
  {
   "cell_type": "markdown",
   "metadata": {},
   "source": [
    "# 2. Load the dataset and normalize the images"
   ]
  },
  {
   "cell_type": "code",
   "execution_count": 2,
   "metadata": {},
   "outputs": [
    {
     "name": "stdout",
     "output_type": "stream",
     "text": [
      "testY (160,)\n",
      "testX (160, 10304)\n",
      "trainX (240, 10304)\n",
      "trainY (240,)\n"
     ]
    }
   ],
   "source": [
    "data_files = np.load('ORL_faces.npz')\n",
    "list_files = data_files.files\n",
    "for file in list_files:\n",
    "    print(file, data_files[file].shape)"
   ]
  },
  {
   "cell_type": "code",
   "execution_count": 3,
   "metadata": {},
   "outputs": [
    {
     "data": {
      "text/plain": [
       "array([[ 48.,  49.,  45., ...,  47.,  46.,  46.],\n",
       "       [ 60.,  60.,  62., ...,  32.,  34.,  34.],\n",
       "       [ 39.,  44.,  53., ...,  29.,  26.,  29.],\n",
       "       ...,\n",
       "       [114., 117., 114., ...,  98.,  96.,  98.],\n",
       "       [105., 105., 107., ...,  54.,  47.,  41.],\n",
       "       [116., 114., 117., ...,  95., 100., 101.]])"
      ]
     },
     "execution_count": 3,
     "metadata": {},
     "output_type": "execute_result"
    }
   ],
   "source": [
    "image_x_train = data_files['trainX']\n",
    "image_x_train"
   ]
  },
  {
   "cell_type": "code",
   "execution_count": 4,
   "metadata": {},
   "outputs": [
    {
     "data": {
      "text/plain": [
       "array([[0.18823529, 0.19215686, 0.17647059, ..., 0.18431373, 0.18039216,\n",
       "        0.18039216],\n",
       "       [0.23529412, 0.23529412, 0.24313725, ..., 0.1254902 , 0.13333333,\n",
       "        0.13333333],\n",
       "       [0.15294118, 0.17254902, 0.20784314, ..., 0.11372549, 0.10196078,\n",
       "        0.11372549],\n",
       "       ...,\n",
       "       [0.44705882, 0.45882353, 0.44705882, ..., 0.38431373, 0.37647059,\n",
       "        0.38431373],\n",
       "       [0.41176471, 0.41176471, 0.41960784, ..., 0.21176471, 0.18431373,\n",
       "        0.16078431],\n",
       "       [0.45490196, 0.44705882, 0.45882353, ..., 0.37254902, 0.39215686,\n",
       "        0.39607843]])"
      ]
     },
     "execution_count": 4,
     "metadata": {},
     "output_type": "execute_result"
    }
   ],
   "source": [
    "image_x_train_norm = image_x_train.astype(float) / 255\n",
    "image_x_train_norm"
   ]
  },
  {
   "cell_type": "code",
   "execution_count": 5,
   "metadata": {},
   "outputs": [
    {
     "data": {
      "text/plain": [
       "array([[ 41.,  47.,  47., ...,  35.,  37.,  38.],\n",
       "       [ 44.,  43.,  32., ...,  43.,  43.,  37.],\n",
       "       [ 42.,  41.,  44., ...,  42.,  43.,  41.],\n",
       "       ...,\n",
       "       [101., 100., 103., ...,  31.,  40.,  42.],\n",
       "       [105., 108., 106., ...,  44.,  40.,  47.],\n",
       "       [113., 114., 111., ...,  62.,  81.,  89.]])"
      ]
     },
     "execution_count": 5,
     "metadata": {},
     "output_type": "execute_result"
    }
   ],
   "source": [
    "image_x_test = data_files['testX']\n",
    "image_x_test"
   ]
  },
  {
   "cell_type": "code",
   "execution_count": 6,
   "metadata": {},
   "outputs": [
    {
     "data": {
      "text/plain": [
       "array([[0.16078431, 0.18431373, 0.18431373, ..., 0.1372549 , 0.14509804,\n",
       "        0.14901961],\n",
       "       [0.17254902, 0.16862745, 0.1254902 , ..., 0.16862745, 0.16862745,\n",
       "        0.14509804],\n",
       "       [0.16470588, 0.16078431, 0.17254902, ..., 0.16470588, 0.16862745,\n",
       "        0.16078431],\n",
       "       ...,\n",
       "       [0.39607843, 0.39215686, 0.40392157, ..., 0.12156863, 0.15686275,\n",
       "        0.16470588],\n",
       "       [0.41176471, 0.42352941, 0.41568627, ..., 0.17254902, 0.15686275,\n",
       "        0.18431373],\n",
       "       [0.44313725, 0.44705882, 0.43529412, ..., 0.24313725, 0.31764706,\n",
       "        0.34901961]])"
      ]
     },
     "execution_count": 6,
     "metadata": {},
     "output_type": "execute_result"
    }
   ],
   "source": [
    "image_x_test_norm = image_x_test.astype(float) / 255\n",
    "image_x_test_norm"
   ]
  },
  {
   "cell_type": "code",
   "execution_count": 7,
   "metadata": {},
   "outputs": [
    {
     "data": {
      "text/plain": [
       "array([[1., 0., 0., ..., 0., 0., 0.],\n",
       "       [1., 0., 0., ..., 0., 0., 0.],\n",
       "       [1., 0., 0., ..., 0., 0., 0.],\n",
       "       ...,\n",
       "       [0., 0., 0., ..., 0., 0., 1.],\n",
       "       [0., 0., 0., ..., 0., 0., 1.],\n",
       "       [0., 0., 0., ..., 0., 0., 1.]], dtype=float32)"
      ]
     },
     "execution_count": 7,
     "metadata": {},
     "output_type": "execute_result"
    }
   ],
   "source": [
    "label_y_train = to_categorical(data_files['trainY'])\n",
    "label_y_train"
   ]
  },
  {
   "cell_type": "code",
   "execution_count": 8,
   "metadata": {},
   "outputs": [
    {
     "data": {
      "text/plain": [
       "array([[1., 0., 0., ..., 0., 0., 0.],\n",
       "       [1., 0., 0., ..., 0., 0., 0.],\n",
       "       [1., 0., 0., ..., 0., 0., 0.],\n",
       "       ...,\n",
       "       [0., 0., 0., ..., 0., 0., 1.],\n",
       "       [0., 0., 0., ..., 0., 0., 1.],\n",
       "       [0., 0., 0., ..., 0., 0., 1.]], dtype=float32)"
      ]
     },
     "execution_count": 8,
     "metadata": {},
     "output_type": "execute_result"
    }
   ],
   "source": [
    "label_y_test = to_categorical(data_files['testY'])\n",
    "label_y_test"
   ]
  },
  {
   "cell_type": "markdown",
   "metadata": {},
   "source": [
    "# 3. Split the dataset"
   ]
  },
  {
   "cell_type": "code",
   "execution_count": 9,
   "metadata": {},
   "outputs": [
    {
     "data": {
      "text/plain": [
       "(192, 10304)"
      ]
     },
     "execution_count": 9,
     "metadata": {},
     "output_type": "execute_result"
    }
   ],
   "source": [
    "x_train, x_valid, y_train, y_valid = train_test_split(image_x_train_norm, label_y_train, test_size=0.2, random_state=123)\n",
    "x_train.shape"
   ]
  },
  {
   "cell_type": "code",
   "execution_count": 10,
   "metadata": {},
   "outputs": [
    {
     "data": {
      "text/plain": [
       "(192, 20)"
      ]
     },
     "execution_count": 10,
     "metadata": {},
     "output_type": "execute_result"
    }
   ],
   "source": [
    "y_train.shape"
   ]
  },
  {
   "cell_type": "code",
   "execution_count": 11,
   "metadata": {},
   "outputs": [
    {
     "data": {
      "text/plain": [
       "(48, 10304)"
      ]
     },
     "execution_count": 11,
     "metadata": {},
     "output_type": "execute_result"
    }
   ],
   "source": [
    "x_valid.shape"
   ]
  },
  {
   "cell_type": "code",
   "execution_count": 12,
   "metadata": {},
   "outputs": [
    {
     "data": {
      "text/plain": [
       "(48, 20)"
      ]
     },
     "execution_count": 12,
     "metadata": {},
     "output_type": "execute_result"
    }
   ],
   "source": [
    "y_valid.shape"
   ]
  },
  {
   "cell_type": "markdown",
   "metadata": {},
   "source": [
    "# 4. Transform the images to equal sizes to feed in CNN"
   ]
  },
  {
   "cell_type": "code",
   "execution_count": 13,
   "metadata": {},
   "outputs": [
    {
     "data": {
      "text/plain": [
       "(192, 112, 92, 1)"
      ]
     },
     "execution_count": 13,
     "metadata": {},
     "output_type": "execute_result"
    }
   ],
   "source": [
    "int_col = 112\n",
    "int_row = 92\n",
    "x_train = x_train.reshape(len(x_train), int_col, int_row, 1)\n",
    "x_train.shape"
   ]
  },
  {
   "cell_type": "code",
   "execution_count": 14,
   "metadata": {},
   "outputs": [
    {
     "data": {
      "text/plain": [
       "(48, 112, 92, 1)"
      ]
     },
     "execution_count": 14,
     "metadata": {},
     "output_type": "execute_result"
    }
   ],
   "source": [
    "x_valid = x_valid.reshape(len(x_valid), int_col, int_row, 1)\n",
    "x_valid.shape"
   ]
  },
  {
   "cell_type": "code",
   "execution_count": 15,
   "metadata": {},
   "outputs": [
    {
     "data": {
      "text/plain": [
       "(160, 112, 92, 1)"
      ]
     },
     "execution_count": 15,
     "metadata": {},
     "output_type": "execute_result"
    }
   ],
   "source": [
    "x_test = image_x_test_norm\n",
    "x_test = x_test.reshape(len(x_test), int_col, int_row, 1)\n",
    "x_test.shape"
   ]
  },
  {
   "cell_type": "markdown",
   "metadata": {},
   "source": [
    "# 5. Build a CNN model that has 3 main layers"
   ]
  },
  {
   "cell_type": "code",
   "execution_count": 16,
   "metadata": {},
   "outputs": [],
   "source": [
    "model_cnn = Sequential()\n",
    "\n",
    "# i. Convolutional Layer\n",
    "model_cnn.add(Conv2D(filters = 32, kernel_size = (3,3), activation = 'relu', input_shape = (int_col, int_row, 1)))\n",
    "\n",
    "# ii. Pooling Layer\n",
    "model_cnn.add(MaxPooling2D(pool_size = (2,2)))\n",
    "model_cnn.add(Flatten())\n",
    "\n",
    "# iii. Fully Connected Layer\n",
    "model_cnn.add(Dense(512, activation = 'relu'))\n",
    "model_cnn.add(Dropout(0.25))\n",
    "model_cnn.add(Dense(128, activation = 'relu'))\n",
    "model_cnn.add(Dropout(0.25))\n",
    "\n",
    "model_cnn.add(Dense(20, activation='softmax'))"
   ]
  },
  {
   "cell_type": "markdown",
   "metadata": {},
   "source": [
    "# 6. Train the model"
   ]
  },
  {
   "cell_type": "code",
   "execution_count": 17,
   "metadata": {},
   "outputs": [
    {
     "name": "stdout",
     "output_type": "stream",
     "text": [
      "Model: \"sequential\"\n",
      "_________________________________________________________________\n",
      "Layer (type)                 Output Shape              Param #   \n",
      "=================================================================\n",
      "conv2d (Conv2D)              (None, 110, 90, 32)       320       \n",
      "_________________________________________________________________\n",
      "max_pooling2d (MaxPooling2D) (None, 55, 45, 32)        0         \n",
      "_________________________________________________________________\n",
      "flatten (Flatten)            (None, 79200)             0         \n",
      "_________________________________________________________________\n",
      "dense (Dense)                (None, 512)               40550912  \n",
      "_________________________________________________________________\n",
      "dropout (Dropout)            (None, 512)               0         \n",
      "_________________________________________________________________\n",
      "dense_1 (Dense)              (None, 128)               65664     \n",
      "_________________________________________________________________\n",
      "dropout_1 (Dropout)          (None, 128)               0         \n",
      "_________________________________________________________________\n",
      "dense_2 (Dense)              (None, 20)                2580      \n",
      "=================================================================\n",
      "Total params: 40,619,476\n",
      "Trainable params: 40,619,476\n",
      "Non-trainable params: 0\n",
      "_________________________________________________________________\n"
     ]
    }
   ],
   "source": [
    "model_cnn.compile(optimizer = 'adam',\n",
    "              loss='categorical_crossentropy',\n",
    "              metrics=['accuracy'])\n",
    "model_cnn.summary()"
   ]
  },
  {
   "cell_type": "code",
   "execution_count": 18,
   "metadata": {},
   "outputs": [
    {
     "name": "stdout",
     "output_type": "stream",
     "text": [
      "Epoch 1/100\n",
      "6/6 [==============================] - 3s 434ms/step - loss: 6.7112 - accuracy: 0.0677 - val_loss: 3.5255 - val_accuracy: 0.0833\n",
      "Epoch 2/100\n",
      "6/6 [==============================] - 2s 398ms/step - loss: 3.7060 - accuracy: 0.0677 - val_loss: 2.8852 - val_accuracy: 0.0833\n",
      "Epoch 3/100\n",
      "6/6 [==============================] - 2s 393ms/step - loss: 3.0852 - accuracy: 0.0469 - val_loss: 2.8440 - val_accuracy: 0.1458\n",
      "Epoch 4/100\n",
      "6/6 [==============================] - 2s 399ms/step - loss: 2.9308 - accuracy: 0.1146 - val_loss: 2.8539 - val_accuracy: 0.1667\n",
      "Epoch 5/100\n",
      "6/6 [==============================] - 2s 416ms/step - loss: 2.8526 - accuracy: 0.1406 - val_loss: 2.7474 - val_accuracy: 0.2500\n",
      "Epoch 6/100\n",
      "6/6 [==============================] - 2s 393ms/step - loss: 2.7077 - accuracy: 0.1979 - val_loss: 2.6040 - val_accuracy: 0.3125\n",
      "Epoch 7/100\n",
      "6/6 [==============================] - 2s 387ms/step - loss: 2.4995 - accuracy: 0.2812 - val_loss: 2.3397 - val_accuracy: 0.3333\n",
      "Epoch 8/100\n",
      "6/6 [==============================] - 2s 394ms/step - loss: 2.2901 - accuracy: 0.2812 - val_loss: 2.0635 - val_accuracy: 0.5208\n",
      "Epoch 9/100\n",
      "6/6 [==============================] - 2s 390ms/step - loss: 2.0270 - accuracy: 0.3802 - val_loss: 1.8147 - val_accuracy: 0.7500\n",
      "Epoch 10/100\n",
      "6/6 [==============================] - 2s 392ms/step - loss: 1.7844 - accuracy: 0.4948 - val_loss: 1.5947 - val_accuracy: 0.6875\n",
      "Epoch 11/100\n",
      "6/6 [==============================] - 2s 409ms/step - loss: 1.4059 - accuracy: 0.6146 - val_loss: 1.1560 - val_accuracy: 0.8125\n",
      "Epoch 12/100\n",
      "6/6 [==============================] - 2s 407ms/step - loss: 1.2028 - accuracy: 0.6667 - val_loss: 0.9913 - val_accuracy: 0.9167\n",
      "Epoch 13/100\n",
      "6/6 [==============================] - 2s 397ms/step - loss: 0.8492 - accuracy: 0.7812 - val_loss: 0.7472 - val_accuracy: 0.9167\n",
      "Epoch 14/100\n",
      "6/6 [==============================] - 2s 394ms/step - loss: 0.8388 - accuracy: 0.7448 - val_loss: 0.5689 - val_accuracy: 0.9375\n",
      "Epoch 15/100\n",
      "6/6 [==============================] - 2s 395ms/step - loss: 0.5724 - accuracy: 0.8385 - val_loss: 0.5042 - val_accuracy: 0.9167\n",
      "Epoch 16/100\n",
      "6/6 [==============================] - 2s 403ms/step - loss: 0.4700 - accuracy: 0.8906 - val_loss: 0.3520 - val_accuracy: 0.9583\n",
      "Epoch 17/100\n",
      "6/6 [==============================] - 2s 391ms/step - loss: 0.3650 - accuracy: 0.9479 - val_loss: 0.2977 - val_accuracy: 0.9792\n",
      "Epoch 18/100\n",
      "6/6 [==============================] - 2s 409ms/step - loss: 0.3895 - accuracy: 0.9062 - val_loss: 0.2632 - val_accuracy: 0.9375\n",
      "Epoch 19/100\n",
      "6/6 [==============================] - 2s 401ms/step - loss: 0.3053 - accuracy: 0.9167 - val_loss: 0.1934 - val_accuracy: 0.9792\n",
      "Epoch 20/100\n",
      "6/6 [==============================] - 2s 396ms/step - loss: 0.2718 - accuracy: 0.9531 - val_loss: 0.2859 - val_accuracy: 0.9167\n",
      "Epoch 21/100\n",
      "6/6 [==============================] - 2s 400ms/step - loss: 0.2142 - accuracy: 0.9635 - val_loss: 0.2407 - val_accuracy: 0.9375\n",
      "Epoch 22/100\n",
      "6/6 [==============================] - 2s 398ms/step - loss: 0.2122 - accuracy: 0.9531 - val_loss: 0.1443 - val_accuracy: 0.9583\n",
      "Epoch 23/100\n",
      "6/6 [==============================] - 2s 391ms/step - loss: 0.1389 - accuracy: 0.9740 - val_loss: 0.1577 - val_accuracy: 0.9583\n",
      "Epoch 24/100\n",
      "6/6 [==============================] - 2s 408ms/step - loss: 0.1155 - accuracy: 0.9896 - val_loss: 0.1558 - val_accuracy: 0.9583\n",
      "Epoch 25/100\n",
      "6/6 [==============================] - 3s 429ms/step - loss: 0.1070 - accuracy: 0.9844 - val_loss: 0.1077 - val_accuracy: 0.9583\n",
      "Epoch 26/100\n",
      "6/6 [==============================] - 2s 400ms/step - loss: 0.1045 - accuracy: 0.9688 - val_loss: 0.1185 - val_accuracy: 0.9792\n",
      "Epoch 27/100\n",
      "6/6 [==============================] - 2s 399ms/step - loss: 0.1076 - accuracy: 0.9896 - val_loss: 0.1238 - val_accuracy: 0.9583\n",
      "Epoch 28/100\n",
      "6/6 [==============================] - 2s 397ms/step - loss: 0.0708 - accuracy: 1.0000 - val_loss: 0.1236 - val_accuracy: 0.9583\n",
      "Epoch 29/100\n",
      "6/6 [==============================] - 2s 400ms/step - loss: 0.0764 - accuracy: 0.9948 - val_loss: 0.1467 - val_accuracy: 0.9583\n",
      "Epoch 30/100\n",
      "6/6 [==============================] - 2s 400ms/step - loss: 0.0528 - accuracy: 0.9948 - val_loss: 0.1564 - val_accuracy: 0.9583\n",
      "Epoch 31/100\n",
      "6/6 [==============================] - 2s 414ms/step - loss: 0.0635 - accuracy: 0.9896 - val_loss: 0.1472 - val_accuracy: 0.9583\n",
      "Epoch 32/100\n",
      "6/6 [==============================] - 3s 424ms/step - loss: 0.0620 - accuracy: 0.9844 - val_loss: 0.1333 - val_accuracy: 0.9583\n",
      "Epoch 33/100\n",
      "6/6 [==============================] - 2s 403ms/step - loss: 0.0758 - accuracy: 0.9844 - val_loss: 0.1078 - val_accuracy: 0.9583\n",
      "Epoch 34/100\n",
      "6/6 [==============================] - 2s 399ms/step - loss: 0.0499 - accuracy: 0.9896 - val_loss: 0.1095 - val_accuracy: 0.9583\n",
      "Epoch 35/100\n",
      "6/6 [==============================] - 2s 411ms/step - loss: 0.0436 - accuracy: 0.9948 - val_loss: 0.0875 - val_accuracy: 0.9583\n",
      "Epoch 36/100\n",
      "6/6 [==============================] - 2s 401ms/step - loss: 0.0389 - accuracy: 0.9948 - val_loss: 0.0759 - val_accuracy: 0.9583\n",
      "Epoch 37/100\n",
      "6/6 [==============================] - 2s 413ms/step - loss: 0.0600 - accuracy: 0.9896 - val_loss: 0.1274 - val_accuracy: 0.9583\n",
      "Epoch 38/100\n",
      "6/6 [==============================] - 3s 424ms/step - loss: 0.0335 - accuracy: 0.9948 - val_loss: 0.0983 - val_accuracy: 0.9583\n",
      "Epoch 39/100\n",
      "6/6 [==============================] - 2s 411ms/step - loss: 0.0440 - accuracy: 0.9896 - val_loss: 0.1092 - val_accuracy: 0.9583\n",
      "Epoch 40/100\n",
      "6/6 [==============================] - 2s 406ms/step - loss: 0.0332 - accuracy: 0.9948 - val_loss: 0.1663 - val_accuracy: 0.9583\n",
      "Epoch 41/100\n",
      "6/6 [==============================] - 2s 408ms/step - loss: 0.0184 - accuracy: 1.0000 - val_loss: 0.1510 - val_accuracy: 0.9583\n",
      "Epoch 42/100\n",
      "6/6 [==============================] - 2s 411ms/step - loss: 0.0570 - accuracy: 0.9844 - val_loss: 0.0932 - val_accuracy: 0.9583\n",
      "Epoch 43/100\n",
      "6/6 [==============================] - 2s 403ms/step - loss: 0.0357 - accuracy: 0.9948 - val_loss: 0.0467 - val_accuracy: 0.9583\n",
      "Epoch 44/100\n",
      "6/6 [==============================] - 2s 418ms/step - loss: 0.0450 - accuracy: 0.9792 - val_loss: 0.0770 - val_accuracy: 0.9583\n",
      "Epoch 45/100\n",
      "6/6 [==============================] - 3s 432ms/step - loss: 0.0306 - accuracy: 1.0000 - val_loss: 0.2078 - val_accuracy: 0.9167\n",
      "Epoch 46/100\n",
      "6/6 [==============================] - 2s 410ms/step - loss: 0.0146 - accuracy: 1.0000 - val_loss: 0.2393 - val_accuracy: 0.9167\n",
      "Epoch 47/100\n",
      "6/6 [==============================] - 2s 410ms/step - loss: 0.0189 - accuracy: 1.0000 - val_loss: 0.1484 - val_accuracy: 0.9583\n",
      "Epoch 48/100\n",
      "6/6 [==============================] - 2s 406ms/step - loss: 0.0228 - accuracy: 0.9948 - val_loss: 0.0846 - val_accuracy: 0.9583\n",
      "Epoch 49/100\n",
      "6/6 [==============================] - 2s 404ms/step - loss: 0.0349 - accuracy: 0.9948 - val_loss: 0.1053 - val_accuracy: 0.9583\n",
      "Epoch 50/100\n",
      "6/6 [==============================] - 2s 409ms/step - loss: 0.0302 - accuracy: 0.9948 - val_loss: 0.1432 - val_accuracy: 0.9583\n",
      "Epoch 51/100\n",
      "6/6 [==============================] - 3s 432ms/step - loss: 0.0304 - accuracy: 0.9948 - val_loss: 0.1925 - val_accuracy: 0.9375\n",
      "Epoch 52/100\n",
      "6/6 [==============================] - 2s 420ms/step - loss: 0.0265 - accuracy: 1.0000 - val_loss: 0.1224 - val_accuracy: 0.9583\n",
      "Epoch 53/100\n",
      "6/6 [==============================] - 2s 414ms/step - loss: 0.0356 - accuracy: 0.9896 - val_loss: 0.1248 - val_accuracy: 0.9583\n",
      "Epoch 54/100\n",
      "6/6 [==============================] - 2s 410ms/step - loss: 0.0217 - accuracy: 0.9948 - val_loss: 0.1291 - val_accuracy: 0.9583\n",
      "Epoch 55/100\n",
      "6/6 [==============================] - 2s 413ms/step - loss: 0.0263 - accuracy: 0.9948 - val_loss: 0.0874 - val_accuracy: 0.9583\n",
      "Epoch 56/100\n",
      "6/6 [==============================] - 2s 420ms/step - loss: 0.0351 - accuracy: 0.9896 - val_loss: 0.1309 - val_accuracy: 0.9583\n",
      "Epoch 57/100\n",
      "6/6 [==============================] - 2s 420ms/step - loss: 0.0205 - accuracy: 1.0000 - val_loss: 0.1369 - val_accuracy: 0.9583\n",
      "Epoch 58/100\n",
      "6/6 [==============================] - 3s 422ms/step - loss: 0.0284 - accuracy: 0.9896 - val_loss: 0.1314 - val_accuracy: 0.9583\n"
     ]
    },
    {
     "name": "stdout",
     "output_type": "stream",
     "text": [
      "Epoch 59/100\n",
      "6/6 [==============================] - 2s 416ms/step - loss: 0.0189 - accuracy: 0.9948 - val_loss: 0.1319 - val_accuracy: 0.9583\n",
      "Epoch 60/100\n",
      "6/6 [==============================] - 2s 408ms/step - loss: 0.0121 - accuracy: 0.9948 - val_loss: 0.0883 - val_accuracy: 0.9583\n",
      "Epoch 61/100\n",
      "6/6 [==============================] - 2s 414ms/step - loss: 0.0241 - accuracy: 0.9896 - val_loss: 0.1044 - val_accuracy: 0.9583\n",
      "Epoch 62/100\n",
      "6/6 [==============================] - 2s 404ms/step - loss: 0.0309 - accuracy: 0.9896 - val_loss: 0.0861 - val_accuracy: 0.9583\n",
      "Epoch 63/100\n",
      "6/6 [==============================] - 2s 409ms/step - loss: 0.0119 - accuracy: 1.0000 - val_loss: 0.0761 - val_accuracy: 0.9583\n",
      "Epoch 64/100\n",
      "6/6 [==============================] - 3s 444ms/step - loss: 0.0191 - accuracy: 0.9948 - val_loss: 0.0761 - val_accuracy: 0.9583\n",
      "Epoch 65/100\n",
      "6/6 [==============================] - 2s 417ms/step - loss: 0.0175 - accuracy: 1.0000 - val_loss: 0.0636 - val_accuracy: 0.9792\n",
      "Epoch 66/100\n",
      "6/6 [==============================] - 2s 424ms/step - loss: 0.0111 - accuracy: 1.0000 - val_loss: 0.0398 - val_accuracy: 1.0000\n",
      "Epoch 67/100\n",
      "6/6 [==============================] - 2s 412ms/step - loss: 0.0130 - accuracy: 1.0000 - val_loss: 0.0568 - val_accuracy: 0.9792\n",
      "Epoch 68/100\n",
      "6/6 [==============================] - 2s 416ms/step - loss: 0.0077 - accuracy: 1.0000 - val_loss: 0.0972 - val_accuracy: 0.9583\n",
      "Epoch 69/100\n",
      "6/6 [==============================] - 2s 412ms/step - loss: 0.0132 - accuracy: 0.9948 - val_loss: 0.1219 - val_accuracy: 0.9583\n",
      "Epoch 70/100\n",
      "6/6 [==============================] - 2s 420ms/step - loss: 0.0200 - accuracy: 0.9896 - val_loss: 0.1207 - val_accuracy: 0.9583\n",
      "Epoch 71/100\n",
      "6/6 [==============================] - 3s 429ms/step - loss: 0.0146 - accuracy: 1.0000 - val_loss: 0.1358 - val_accuracy: 0.9583\n",
      "Epoch 72/100\n",
      "6/6 [==============================] - 2s 407ms/step - loss: 0.0273 - accuracy: 0.9948 - val_loss: 0.0740 - val_accuracy: 0.9583\n",
      "Epoch 73/100\n",
      "6/6 [==============================] - 2s 413ms/step - loss: 0.0122 - accuracy: 1.0000 - val_loss: 0.0596 - val_accuracy: 0.9583\n",
      "Epoch 74/100\n",
      "6/6 [==============================] - 2s 409ms/step - loss: 0.0173 - accuracy: 0.9948 - val_loss: 0.0491 - val_accuracy: 0.9792\n",
      "Epoch 75/100\n",
      "6/6 [==============================] - 2s 417ms/step - loss: 0.0101 - accuracy: 1.0000 - val_loss: 0.0804 - val_accuracy: 0.9583\n",
      "Epoch 76/100\n",
      "6/6 [==============================] - 2s 407ms/step - loss: 0.0293 - accuracy: 0.9896 - val_loss: 0.1563 - val_accuracy: 0.9583\n",
      "Epoch 77/100\n",
      "6/6 [==============================] - 3s 428ms/step - loss: 0.0166 - accuracy: 1.0000 - val_loss: 0.1297 - val_accuracy: 0.9583\n",
      "Epoch 78/100\n",
      "6/6 [==============================] - 2s 416ms/step - loss: 0.0326 - accuracy: 0.9948 - val_loss: 0.0893 - val_accuracy: 0.9583\n",
      "Epoch 79/100\n",
      "6/6 [==============================] - 2s 408ms/step - loss: 0.0113 - accuracy: 1.0000 - val_loss: 0.0648 - val_accuracy: 0.9792\n",
      "Epoch 80/100\n",
      "6/6 [==============================] - 2s 412ms/step - loss: 0.0138 - accuracy: 1.0000 - val_loss: 0.0575 - val_accuracy: 0.9792\n",
      "Epoch 81/100\n",
      "6/6 [==============================] - 2s 411ms/step - loss: 0.0124 - accuracy: 1.0000 - val_loss: 0.0584 - val_accuracy: 0.9583\n",
      "Epoch 82/100\n",
      "6/6 [==============================] - 2s 412ms/step - loss: 0.0042 - accuracy: 1.0000 - val_loss: 0.0546 - val_accuracy: 0.9583\n",
      "Epoch 83/100\n",
      "6/6 [==============================] - 2s 420ms/step - loss: 0.0172 - accuracy: 0.9896 - val_loss: 0.0749 - val_accuracy: 0.9583\n",
      "Epoch 84/100\n",
      "6/6 [==============================] - 3s 432ms/step - loss: 0.0070 - accuracy: 1.0000 - val_loss: 0.1064 - val_accuracy: 0.9583\n",
      "Epoch 85/100\n",
      "6/6 [==============================] - 2s 417ms/step - loss: 0.0220 - accuracy: 0.9948 - val_loss: 0.1151 - val_accuracy: 0.9583\n",
      "Epoch 86/100\n",
      "6/6 [==============================] - 2s 414ms/step - loss: 0.0235 - accuracy: 0.9948 - val_loss: 0.1478 - val_accuracy: 0.9583\n",
      "Epoch 87/100\n",
      "6/6 [==============================] - 2s 406ms/step - loss: 0.0032 - accuracy: 1.0000 - val_loss: 0.1983 - val_accuracy: 0.9583\n",
      "Epoch 88/100\n",
      "6/6 [==============================] - 2s 412ms/step - loss: 0.0124 - accuracy: 1.0000 - val_loss: 0.1660 - val_accuracy: 0.9583\n",
      "Epoch 89/100\n",
      "6/6 [==============================] - 2s 411ms/step - loss: 0.0158 - accuracy: 1.0000 - val_loss: 0.1189 - val_accuracy: 0.9583\n",
      "Epoch 90/100\n",
      "6/6 [==============================] - 3s 442ms/step - loss: 0.0116 - accuracy: 1.0000 - val_loss: 0.1593 - val_accuracy: 0.9583\n",
      "Epoch 91/100\n",
      "6/6 [==============================] - 2s 411ms/step - loss: 0.0126 - accuracy: 1.0000 - val_loss: 0.1126 - val_accuracy: 0.9583\n",
      "Epoch 92/100\n",
      "6/6 [==============================] - 3s 420ms/step - loss: 0.0042 - accuracy: 1.0000 - val_loss: 0.1083 - val_accuracy: 0.9583\n",
      "Epoch 93/100\n",
      "6/6 [==============================] - 2s 415ms/step - loss: 0.0192 - accuracy: 0.9948 - val_loss: 0.1471 - val_accuracy: 0.9583\n",
      "Epoch 94/100\n",
      "6/6 [==============================] - 2s 418ms/step - loss: 0.0264 - accuracy: 0.9896 - val_loss: 0.1516 - val_accuracy: 0.9583\n",
      "Epoch 95/100\n",
      "6/6 [==============================] - 2s 421ms/step - loss: 0.0126 - accuracy: 1.0000 - val_loss: 0.0669 - val_accuracy: 0.9583\n",
      "Epoch 96/100\n",
      "6/6 [==============================] - 3s 456ms/step - loss: 0.0153 - accuracy: 0.9948 - val_loss: 0.0401 - val_accuracy: 1.0000\n",
      "Epoch 97/100\n",
      "6/6 [==============================] - 3s 456ms/step - loss: 0.0086 - accuracy: 1.0000 - val_loss: 0.0366 - val_accuracy: 1.0000\n",
      "Epoch 98/100\n",
      "6/6 [==============================] - 2s 415ms/step - loss: 0.0192 - accuracy: 0.9948 - val_loss: 0.0509 - val_accuracy: 0.9792\n",
      "Epoch 99/100\n",
      "6/6 [==============================] - 2s 420ms/step - loss: 0.0081 - accuracy: 1.0000 - val_loss: 0.0655 - val_accuracy: 0.9792\n",
      "Epoch 100/100\n",
      "6/6 [==============================] - 2s 409ms/step - loss: 0.0085 - accuracy: 1.0000 - val_loss: 0.0930 - val_accuracy: 0.9583\n"
     ]
    }
   ],
   "source": [
    "int_batch_size = 32\n",
    "history = model_cnn.fit(x = x_train, y = y_train,\n",
    "                        validation_data = (x_valid, y_valid),\n",
    "                        epochs = 100,\n",
    "                        batch_size = int_batch_size)"
   ]
  },
  {
   "cell_type": "code",
   "execution_count": 19,
   "metadata": {},
   "outputs": [
    {
     "name": "stdout",
     "output_type": "stream",
     "text": [
      "5/5 [==============================] - 1s 92ms/step - loss: 0.3429 - accuracy: 0.9000\n",
      "[Loss, Accuracy]: [0.34290948510169983, 0.8999999761581421]\n"
     ]
    }
   ],
   "source": [
    "# Check the accuracy using the test dataset\n",
    "cnn_eval = model_cnn.evaluate(x_test, label_y_test)\n",
    "print(\"[Loss, Accuracy]:\", cnn_eval)"
   ]
  },
  {
   "cell_type": "markdown",
   "metadata": {},
   "source": [
    "# 7. Plot the result"
   ]
  },
  {
   "cell_type": "code",
   "execution_count": 20,
   "metadata": {},
   "outputs": [
    {
     "data": {
      "image/png": "[encoded data removed]",
      "text/plain": [
       "<Figure size 432x288 with 1 Axes>"
      ]
     },
     "metadata": {
      "needs_background": "light"
     },
     "output_type": "display_data"
    },
    {
     "data": {
      "image/png": "[encoded data removed]",
      "text/plain": [
       "<Figure size 432x288 with 1 Axes>"
      ]
     },
     "metadata": {
      "needs_background": "light"
     },
     "output_type": "display_data"
    }
   ],
   "source": [
    "# Plot the history for accuracy\n",
    "plt.plot(history.history['accuracy'])\n",
    "plt.plot(history.history['val_accuracy'])\n",
    "plt.title('Model Accuracy')\n",
    "plt.ylabel('accuracy')\n",
    "plt.xlabel('epoch')\n",
    "plt.legend(['train', 'validate'], loc='upper left')\n",
    "plt.show()\n",
    "\n",
    "# Plot the history for loss\n",
    "plt.plot(history.history['loss'])\n",
    "plt.plot(history.history['val_loss'])\n",
    "plt.title('Model Loss')\n",
    "plt.ylabel('loss')\n",
    "plt.xlabel('epoch')\n",
    "plt.legend(['train', 'validate'], loc='upper left')\n",
    "plt.show()"
   ]
  },
  {
   "cell_type": "markdown",
   "metadata": {},
   "source": [
    "The graphs are suggsting that 90% accuracy could be achieved with around 30 epochs."
   ]
  },
  {
   "cell_type": "markdown",
   "metadata": {},
   "source": [
    "# 8. Iterate the model until the accuracy is above 90%"
   ]
  },
  {
   "cell_type": "code",
   "execution_count": 21,
   "metadata": {},
   "outputs": [],
   "source": [
    "# Define callback function to stop the iteration when accuracy is above 90%\n",
    "# 1. Model must be a generalized model ( testScore > trainScore )\n",
    "# 2. Model's Accuracy >= 90%\n",
    "class QualityThreshold(Callback):\n",
    "  def __init__(self, cl):\n",
    "    super(QualityThreshold, self).__init__()\n",
    "    self.cl = cl\n",
    "  \n",
    "  def on_epoch_end(self,epoch,logs=None):\n",
    "    testScore = logs['val_accuracy']\n",
    "    trainScore = logs['accuracy']\n",
    "\n",
    "    if (testScore > trainScore and trainScore >= self.cl and epoch > 5) or (testScore == 1 and epoch > 5):\n",
    "      self.model.stop_training = True"
   ]
  },
  {
   "cell_type": "code",
   "execution_count": 22,
   "metadata": {},
   "outputs": [],
   "source": [
    "model_new = Sequential()\n",
    "\n",
    "# i. Convolutional Layer\n",
    "model_new.add(Conv2D(filters = 32, kernel_size = (3,3), activation = 'relu', input_shape = (int_col, int_row, 1)))\n",
    "\n",
    "# ii. Pooling Layer\n",
    "model_new.add(MaxPooling2D(pool_size = (2,2)))\n",
    "model_new.add(Flatten())\n",
    "\n",
    "# iii. Fully Connected Layer\n",
    "model_new.add(Dense(512, activation = 'relu'))\n",
    "model_new.add(Dropout(0.25))\n",
    "model_new.add(Dense(128, activation = 'relu'))\n",
    "model_new.add(Dropout(0.25))\n",
    "\n",
    "model_new.add(Dense(20, activation='softmax'))\n",
    "\n",
    "model_new.compile(optimizer = 'adam',\n",
    "              loss='categorical_crossentropy',\n",
    "              metrics=['accuracy'])"
   ]
  },
  {
   "cell_type": "code",
   "execution_count": 23,
   "metadata": {},
   "outputs": [
    {
     "name": "stdout",
     "output_type": "stream",
     "text": [
      "Epoch 1/100\n",
      "6/6 [==============================] - 3s 444ms/step - loss: 6.7478 - accuracy: 0.0521 - val_loss: 3.3084 - val_accuracy: 0.0417\n",
      "Epoch 2/100\n",
      "6/6 [==============================] - 3s 430ms/step - loss: 3.7910 - accuracy: 0.0833 - val_loss: 3.0396 - val_accuracy: 0.0417\n",
      "Epoch 3/100\n",
      "6/6 [==============================] - 2s 407ms/step - loss: 3.2360 - accuracy: 0.0573 - val_loss: 2.9200 - val_accuracy: 0.0208\n",
      "Epoch 4/100\n",
      "6/6 [==============================] - 2s 410ms/step - loss: 2.8734 - accuracy: 0.1302 - val_loss: 2.8043 - val_accuracy: 0.2917\n",
      "Epoch 5/100\n",
      "6/6 [==============================] - 2s 415ms/step - loss: 2.7448 - accuracy: 0.1667 - val_loss: 2.6446 - val_accuracy: 0.2917\n",
      "Epoch 6/100\n",
      "6/6 [==============================] - 2s 412ms/step - loss: 2.5143 - accuracy: 0.2708 - val_loss: 2.3824 - val_accuracy: 0.3958\n",
      "Epoch 7/100\n",
      "6/6 [==============================] - 2s 417ms/step - loss: 2.3020 - accuracy: 0.3229 - val_loss: 2.1267 - val_accuracy: 0.6042\n",
      "Epoch 8/100\n",
      "6/6 [==============================] - 3s 435ms/step - loss: 1.9745 - accuracy: 0.4792 - val_loss: 1.8296 - val_accuracy: 0.7292\n",
      "Epoch 9/100\n",
      "6/6 [==============================] - 2s 422ms/step - loss: 1.6368 - accuracy: 0.5625 - val_loss: 1.3933 - val_accuracy: 0.7917\n",
      "Epoch 10/100\n",
      "6/6 [==============================] - 2s 413ms/step - loss: 1.2650 - accuracy: 0.6510 - val_loss: 1.0318 - val_accuracy: 0.9167\n",
      "Epoch 11/100\n",
      "6/6 [==============================] - 2s 411ms/step - loss: 1.1092 - accuracy: 0.6927 - val_loss: 0.8170 - val_accuracy: 0.9583\n",
      "Epoch 12/100\n",
      "6/6 [==============================] - 2s 418ms/step - loss: 0.8456 - accuracy: 0.8125 - val_loss: 0.6382 - val_accuracy: 0.8958\n",
      "Epoch 13/100\n",
      "6/6 [==============================] - 2s 417ms/step - loss: 0.6417 - accuracy: 0.8490 - val_loss: 0.4067 - val_accuracy: 0.9583\n",
      "Epoch 14/100\n",
      "6/6 [==============================] - 3s 467ms/step - loss: 0.4717 - accuracy: 0.9115 - val_loss: 0.3787 - val_accuracy: 0.9583\n"
     ]
    },
    {
     "data": {
      "text/plain": [
       "<tensorflow.python.keras.callbacks.History at 0x19b4bf82ac8>"
      ]
     },
     "execution_count": 23,
     "metadata": {},
     "output_type": "execute_result"
    }
   ],
   "source": [
    "model_new.fit(x = x_train, y = y_train,\n",
    "              validation_data = (x_valid, y_valid),\n",
    "              epochs = 100,\n",
    "              batch_size = int_batch_size,\n",
    "              callbacks=[QualityThreshold(0.9)])"
   ]
  },
  {
   "cell_type": "code",
   "execution_count": 24,
   "metadata": {},
   "outputs": [
    {
     "name": "stdout",
     "output_type": "stream",
     "text": [
      "5/5 [==============================] - 1s 108ms/step - loss: 0.5506 - accuracy: 0.9125\n",
      "[Loss, Accuracy]: [0.5506483912467957, 0.9125000238418579]\n"
     ]
    }
   ],
   "source": [
    "# Check the accuracy using the test dataset\n",
    "new_eval = model_new.evaluate(x_test, label_y_test)\n",
    "print(\"[Loss, Accuracy]:\", new_eval)"
   ]
  },
  {
   "cell_type": "markdown",
   "metadata": {},
   "source": [
    "As oberved, with around 20 epochs it is able to achieve 90% accuracy and the similar accuracy is also achieved on test dataset."
   ]
  }
 ],
 "metadata": {
  "kernelspec": {
   "display_name": "Python 3",
   "language": "python",
   "name": "python3"
  },
  "language_info": {
   "codemirror_mode": {
    "name": "ipython",
    "version": 3
   },
   "file_extension": ".py",
   "mimetype": "text/x-python",
   "name": "python",
   "nbconvert_exporter": "python",
   "pygments_lexer": "ipython3",
   "version": "3.7.6"
  }
 },
 "nbformat": 4,
 "nbformat_minor": 4
}
