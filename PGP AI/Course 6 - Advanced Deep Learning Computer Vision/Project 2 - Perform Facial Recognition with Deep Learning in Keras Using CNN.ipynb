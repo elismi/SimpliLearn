{
 "cells": [
  {
   "cell_type": "markdown",
   "metadata": {},
   "source": [
    "### Project 2 - Perform Facial Recognition with Deep Learning in Keras Using CNN"
   ]
  },
  {
   "cell_type": "markdown",
   "metadata": {},
   "source": [
    "# 1. Import the requried libraries"
   ]
  },
  {
   "cell_type": "code",
   "execution_count": 1,
   "metadata": {},
   "outputs": [
    {
     "name": "stdout",
     "output_type": "stream",
     "text": [
      "2.5.0\n"
     ]
    }
   ],
   "source": [
    "import numpy as np\n",
    "import seaborn as sns\n",
    "from pandas import DataFrame\n",
    "\n",
    "from sklearn.model_selection import train_test_split\n",
    "from sklearn.metrics import confusion_matrix\n",
    "from sklearn.metrics import accuracy_score\n",
    "\n",
    "from tensorflow.keras.models import Sequential\n",
    "from tensorflow.keras.layers import Conv2D, MaxPooling2D, Dense, Flatten, Dropout\n",
    "from tensorflow.keras.utils import to_categorical\n",
    "from tensorflow.keras.callbacks import Callback\n",
    "\n",
    "from matplotlib import pyplot as plt\n",
    "\n",
    "import tensorflow as tf\n",
    "print(tf.__version__)"
   ]
  },
  {
   "cell_type": "markdown",
   "metadata": {},
   "source": [
    "# 2. Load the dataset and normalize the images"
   ]
  },
  {
   "cell_type": "code",
   "execution_count": 2,
   "metadata": {},
   "outputs": [
    {
     "name": "stdout",
     "output_type": "stream",
     "text": [
      "testY (160,)\n",
      "testX (160, 10304)\n",
      "trainX (240, 10304)\n",
      "trainY (240,)\n"
     ]
    }
   ],
   "source": [
    "data_files = np.load('ORL_faces.npz')\n",
    "list_files = data_files.files\n",
    "for file in list_files:\n",
    "    print(file, data_files[file].shape)"
   ]
  },
  {
   "cell_type": "code",
   "execution_count": 3,
   "metadata": {},
   "outputs": [
    {
     "data": {
      "text/plain": [
       "array([[ 48.,  49.,  45., ...,  47.,  46.,  46.],\n",
       "       [ 60.,  60.,  62., ...,  32.,  34.,  34.],\n",
       "       [ 39.,  44.,  53., ...,  29.,  26.,  29.],\n",
       "       ...,\n",
       "       [114., 117., 114., ...,  98.,  96.,  98.],\n",
       "       [105., 105., 107., ...,  54.,  47.,  41.],\n",
       "       [116., 114., 117., ...,  95., 100., 101.]])"
      ]
     },
     "execution_count": 3,
     "metadata": {},
     "output_type": "execute_result"
    }
   ],
   "source": [
    "image_x_train = data_files['trainX']\n",
    "image_x_train"
   ]
  },
  {
   "cell_type": "code",
   "execution_count": 4,
   "metadata": {},
   "outputs": [
    {
     "data": {
      "text/plain": [
       "array([[0.18823529, 0.19215686, 0.17647059, ..., 0.18431373, 0.18039216,\n",
       "        0.18039216],\n",
       "       [0.23529412, 0.23529412, 0.24313725, ..., 0.1254902 , 0.13333333,\n",
       "        0.13333333],\n",
       "       [0.15294118, 0.17254902, 0.20784314, ..., 0.11372549, 0.10196078,\n",
       "        0.11372549],\n",
       "       ...,\n",
       "       [0.44705882, 0.45882353, 0.44705882, ..., 0.38431373, 0.37647059,\n",
       "        0.38431373],\n",
       "       [0.41176471, 0.41176471, 0.41960784, ..., 0.21176471, 0.18431373,\n",
       "        0.16078431],\n",
       "       [0.45490196, 0.44705882, 0.45882353, ..., 0.37254902, 0.39215686,\n",
       "        0.39607843]])"
      ]
     },
     "execution_count": 4,
     "metadata": {},
     "output_type": "execute_result"
    }
   ],
   "source": [
    "image_x_train_norm = image_x_train.astype(float) / 255\n",
    "image_x_train_norm"
   ]
  },
  {
   "cell_type": "code",
   "execution_count": 5,
   "metadata": {},
   "outputs": [
    {
     "data": {
      "text/plain": [
       "array([[ 41.,  47.,  47., ...,  35.,  37.,  38.],\n",
       "       [ 44.,  43.,  32., ...,  43.,  43.,  37.],\n",
       "       [ 42.,  41.,  44., ...,  42.,  43.,  41.],\n",
       "       ...,\n",
       "       [101., 100., 103., ...,  31.,  40.,  42.],\n",
       "       [105., 108., 106., ...,  44.,  40.,  47.],\n",
       "       [113., 114., 111., ...,  62.,  81.,  89.]])"
      ]
     },
     "execution_count": 5,
     "metadata": {},
     "output_type": "execute_result"
    }
   ],
   "source": [
    "image_x_test = data_files['testX']\n",
    "image_x_test"
   ]
  },
  {
   "cell_type": "code",
   "execution_count": 6,
   "metadata": {},
   "outputs": [
    {
     "data": {
      "text/plain": [
       "array([[0.16078431, 0.18431373, 0.18431373, ..., 0.1372549 , 0.14509804,\n",
       "        0.14901961],\n",
       "       [0.17254902, 0.16862745, 0.1254902 , ..., 0.16862745, 0.16862745,\n",
       "        0.14509804],\n",
       "       [0.16470588, 0.16078431, 0.17254902, ..., 0.16470588, 0.16862745,\n",
       "        0.16078431],\n",
       "       ...,\n",
       "       [0.39607843, 0.39215686, 0.40392157, ..., 0.12156863, 0.15686275,\n",
       "        0.16470588],\n",
       "       [0.41176471, 0.42352941, 0.41568627, ..., 0.17254902, 0.15686275,\n",
       "        0.18431373],\n",
       "       [0.44313725, 0.44705882, 0.43529412, ..., 0.24313725, 0.31764706,\n",
       "        0.34901961]])"
      ]
     },
     "execution_count": 6,
     "metadata": {},
     "output_type": "execute_result"
    }
   ],
   "source": [
    "image_x_test_norm = image_x_test.astype(float) / 255\n",
    "image_x_test_norm"
   ]
  },
  {
   "cell_type": "code",
   "execution_count": 7,
   "metadata": {},
   "outputs": [
    {
     "data": {
      "text/plain": [
       "array([[1., 0., 0., ..., 0., 0., 0.],\n",
       "       [1., 0., 0., ..., 0., 0., 0.],\n",
       "       [1., 0., 0., ..., 0., 0., 0.],\n",
       "       ...,\n",
       "       [0., 0., 0., ..., 0., 0., 1.],\n",
       "       [0., 0., 0., ..., 0., 0., 1.],\n",
       "       [0., 0., 0., ..., 0., 0., 1.]], dtype=float32)"
      ]
     },
     "execution_count": 7,
     "metadata": {},
     "output_type": "execute_result"
    }
   ],
   "source": [
    "label_y_train = to_categorical(data_files['trainY'])\n",
    "label_y_train"
   ]
  },
  {
   "cell_type": "code",
   "execution_count": 8,
   "metadata": {},
   "outputs": [
    {
     "data": {
      "text/plain": [
       "array([[1., 0., 0., ..., 0., 0., 0.],\n",
       "       [1., 0., 0., ..., 0., 0., 0.],\n",
       "       [1., 0., 0., ..., 0., 0., 0.],\n",
       "       ...,\n",
       "       [0., 0., 0., ..., 0., 0., 1.],\n",
       "       [0., 0., 0., ..., 0., 0., 1.],\n",
       "       [0., 0., 0., ..., 0., 0., 1.]], dtype=float32)"
      ]
     },
     "execution_count": 8,
     "metadata": {},
     "output_type": "execute_result"
    }
   ],
   "source": [
    "label_y_test = to_categorical(data_files['testY'])\n",
    "label_y_test"
   ]
  },
  {
   "cell_type": "markdown",
   "metadata": {},
   "source": [
    "# 3. Split the dataset"
   ]
  },
  {
   "cell_type": "code",
   "execution_count": 9,
   "metadata": {},
   "outputs": [
    {
     "data": {
      "text/plain": [
       "(192, 10304)"
      ]
     },
     "execution_count": 9,
     "metadata": {},
     "output_type": "execute_result"
    }
   ],
   "source": [
    "x_train, x_valid, y_train, y_valid = train_test_split(image_x_train_norm, label_y_train, test_size=0.2, random_state=123)\n",
    "x_train.shape"
   ]
  },
  {
   "cell_type": "code",
   "execution_count": 10,
   "metadata": {},
   "outputs": [
    {
     "data": {
      "text/plain": [
       "(192, 20)"
      ]
     },
     "execution_count": 10,
     "metadata": {},
     "output_type": "execute_result"
    }
   ],
   "source": [
    "y_train.shape"
   ]
  },
  {
   "cell_type": "code",
   "execution_count": 11,
   "metadata": {},
   "outputs": [
    {
     "data": {
      "text/plain": [
       "(48, 10304)"
      ]
     },
     "execution_count": 11,
     "metadata": {},
     "output_type": "execute_result"
    }
   ],
   "source": [
    "x_valid.shape"
   ]
  },
  {
   "cell_type": "code",
   "execution_count": 12,
   "metadata": {},
   "outputs": [
    {
     "data": {
      "text/plain": [
       "(48, 20)"
      ]
     },
     "execution_count": 12,
     "metadata": {},
     "output_type": "execute_result"
    }
   ],
   "source": [
    "y_valid.shape"
   ]
  },
  {
   "cell_type": "markdown",
   "metadata": {},
   "source": [
    "# 4. Transform the images to equal sizes to feed in CNN"
   ]
  },
  {
   "cell_type": "code",
   "execution_count": 13,
   "metadata": {},
   "outputs": [
    {
     "data": {
      "text/plain": [
       "(192, 112, 92, 1)"
      ]
     },
     "execution_count": 13,
     "metadata": {},
     "output_type": "execute_result"
    }
   ],
   "source": [
    "int_col = 112\n",
    "int_row = 92\n",
    "x_train = x_train.reshape(len(x_train), int_col, int_row, 1)\n",
    "x_train.shape"
   ]
  },
  {
   "cell_type": "code",
   "execution_count": 14,
   "metadata": {},
   "outputs": [
    {
     "data": {
      "text/plain": [
       "(48, 112, 92, 1)"
      ]
     },
     "execution_count": 14,
     "metadata": {},
     "output_type": "execute_result"
    }
   ],
   "source": [
    "x_valid = x_valid.reshape(len(x_valid), int_col, int_row, 1)\n",
    "x_valid.shape"
   ]
  },
  {
   "cell_type": "code",
   "execution_count": 15,
   "metadata": {},
   "outputs": [
    {
     "data": {
      "text/plain": [
       "(160, 112, 92, 1)"
      ]
     },
     "execution_count": 15,
     "metadata": {},
     "output_type": "execute_result"
    }
   ],
   "source": [
    "x_test = image_x_test_norm\n",
    "x_test = x_test.reshape(len(x_test), int_col, int_row, 1)\n",
    "x_test.shape"
   ]
  },
  {
   "cell_type": "markdown",
   "metadata": {},
   "source": [
    "# 5. Build a CNN model that has 3 main layers"
   ]
  },
  {
   "cell_type": "code",
   "execution_count": 16,
   "metadata": {},
   "outputs": [],
   "source": [
    "model_cnn = Sequential()\n",
    "\n",
    "# i. Convolutional Layer\n",
    "model_cnn.add(Conv2D(filters = 32, kernel_size = (3,3), activation = 'relu', input_shape = (int_col, int_row, 1)))\n",
    "\n",
    "# ii. Pooling Layer\n",
    "model_cnn.add(MaxPooling2D(pool_size = (2,2)))\n",
    "model_cnn.add(Flatten())\n",
    "\n",
    "# iii. Fully Connected Layer\n",
    "model_cnn.add(Dense(512, activation = 'relu'))\n",
    "model_cnn.add(Dropout(0.25))\n",
    "model_cnn.add(Dense(128, activation = 'relu'))\n",
    "model_cnn.add(Dropout(0.25))\n",
    "\n",
    "model_cnn.add(Dense(20, activation='softmax'))"
   ]
  },
  {
   "cell_type": "markdown",
   "metadata": {},
   "source": [
    "# 6. Train the model"
   ]
  },
  {
   "cell_type": "code",
   "execution_count": 17,
   "metadata": {},
   "outputs": [
    {
     "name": "stdout",
     "output_type": "stream",
     "text": [
      "Model: \"sequential\"\n",
      "_________________________________________________________________\n",
      "Layer (type)                 Output Shape              Param #   \n",
      "=================================================================\n",
      "conv2d (Conv2D)              (None, 110, 90, 32)       320       \n",
      "_________________________________________________________________\n",
      "max_pooling2d (MaxPooling2D) (None, 55, 45, 32)        0         \n",
      "_________________________________________________________________\n",
      "flatten (Flatten)            (None, 79200)             0         \n",
      "_________________________________________________________________\n",
      "dense (Dense)                (None, 512)               40550912  \n",
      "_________________________________________________________________\n",
      "dropout (Dropout)            (None, 512)               0         \n",
      "_________________________________________________________________\n",
      "dense_1 (Dense)              (None, 128)               65664     \n",
      "_________________________________________________________________\n",
      "dropout_1 (Dropout)          (None, 128)               0         \n",
      "_________________________________________________________________\n",
      "dense_2 (Dense)              (None, 20)                2580      \n",
      "=================================================================\n",
      "Total params: 40,619,476\n",
      "Trainable params: 40,619,476\n",
      "Non-trainable params: 0\n",
      "_________________________________________________________________\n"
     ]
    }
   ],
   "source": [
    "model_cnn.compile(optimizer = 'adam',\n",
    "              loss='categorical_crossentropy',\n",
    "              metrics=['accuracy'])\n",
    "model_cnn.summary()"
   ]
  },
  {
   "cell_type": "code",
   "execution_count": 18,
   "metadata": {},
   "outputs": [
    {
     "name": "stdout",
     "output_type": "stream",
     "text": [
      "Epoch 1/100\n",
      "6/6 [==============================] - 3s 425ms/step - loss: 7.6985 - accuracy: 0.0469 - val_loss: 4.1479 - val_accuracy: 0.1042\n",
      "Epoch 2/100\n",
      "6/6 [==============================] - 2s 385ms/step - loss: 4.7399 - accuracy: 0.0521 - val_loss: 3.0028 - val_accuracy: 0.0833\n",
      "Epoch 3/100\n",
      "6/6 [==============================] - 2s 399ms/step - loss: 3.1221 - accuracy: 0.0990 - val_loss: 2.8739 - val_accuracy: 0.0625\n",
      "Epoch 4/100\n",
      "6/6 [==============================] - 2s 402ms/step - loss: 2.8803 - accuracy: 0.1042 - val_loss: 2.7927 - val_accuracy: 0.1667\n",
      "Epoch 5/100\n",
      "6/6 [==============================] - 2s 389ms/step - loss: 2.7236 - accuracy: 0.1979 - val_loss: 2.6738 - val_accuracy: 0.2292\n",
      "Epoch 6/100\n",
      "6/6 [==============================] - 2s 409ms/step - loss: 2.5904 - accuracy: 0.2552 - val_loss: 2.5112 - val_accuracy: 0.4583\n",
      "Epoch 7/100\n",
      "6/6 [==============================] - 2s 402ms/step - loss: 2.3860 - accuracy: 0.3646 - val_loss: 2.3792 - val_accuracy: 0.2292\n",
      "Epoch 8/100\n",
      "6/6 [==============================] - 2s 398ms/step - loss: 2.2528 - accuracy: 0.3438 - val_loss: 2.1254 - val_accuracy: 0.5000\n",
      "Epoch 9/100\n",
      "6/6 [==============================] - 2s 393ms/step - loss: 1.9761 - accuracy: 0.4531 - val_loss: 1.7884 - val_accuracy: 0.6042\n",
      "Epoch 10/100\n",
      "6/6 [==============================] - 2s 402ms/step - loss: 1.6938 - accuracy: 0.5417 - val_loss: 1.4569 - val_accuracy: 0.8333\n",
      "Epoch 11/100\n",
      "6/6 [==============================] - 2s 400ms/step - loss: 1.4669 - accuracy: 0.6146 - val_loss: 1.3112 - val_accuracy: 0.8125\n",
      "Epoch 12/100\n",
      "6/6 [==============================] - 2s 382ms/step - loss: 1.2043 - accuracy: 0.6979 - val_loss: 0.9906 - val_accuracy: 0.8750\n",
      "Epoch 13/100\n",
      "6/6 [==============================] - 2s 384ms/step - loss: 1.0022 - accuracy: 0.7500 - val_loss: 0.8777 - val_accuracy: 0.9167\n",
      "Epoch 14/100\n",
      "6/6 [==============================] - 2s 393ms/step - loss: 0.7944 - accuracy: 0.8125 - val_loss: 0.6429 - val_accuracy: 0.9583\n",
      "Epoch 15/100\n",
      "6/6 [==============================] - 2s 386ms/step - loss: 0.7005 - accuracy: 0.8125 - val_loss: 0.4812 - val_accuracy: 0.9583\n",
      "Epoch 16/100\n",
      "6/6 [==============================] - 2s 427ms/step - loss: 0.6469 - accuracy: 0.8229 - val_loss: 0.4817 - val_accuracy: 0.9375\n",
      "Epoch 17/100\n",
      "6/6 [==============================] - 3s 430ms/step - loss: 0.5718 - accuracy: 0.8594 - val_loss: 0.4056 - val_accuracy: 0.9583\n",
      "Epoch 18/100\n",
      "6/6 [==============================] - 2s 409ms/step - loss: 0.4713 - accuracy: 0.8646 - val_loss: 0.3845 - val_accuracy: 0.9583\n",
      "Epoch 19/100\n",
      "6/6 [==============================] - 3s 434ms/step - loss: 0.4417 - accuracy: 0.8802 - val_loss: 0.3149 - val_accuracy: 0.9583\n",
      "Epoch 20/100\n",
      "6/6 [==============================] - 2s 395ms/step - loss: 0.3299 - accuracy: 0.9323 - val_loss: 0.2574 - val_accuracy: 0.9583\n",
      "Epoch 21/100\n",
      "6/6 [==============================] - 2s 384ms/step - loss: 0.3435 - accuracy: 0.9115 - val_loss: 0.2220 - val_accuracy: 0.9583\n",
      "Epoch 22/100\n",
      "6/6 [==============================] - 2s 387ms/step - loss: 0.2332 - accuracy: 0.9635 - val_loss: 0.2036 - val_accuracy: 0.9583\n",
      "Epoch 23/100\n",
      "6/6 [==============================] - 2s 422ms/step - loss: 0.2376 - accuracy: 0.9375 - val_loss: 0.1513 - val_accuracy: 0.9583\n",
      "Epoch 24/100\n",
      "6/6 [==============================] - 3s 436ms/step - loss: 0.1854 - accuracy: 0.9688 - val_loss: 0.2016 - val_accuracy: 0.9583\n",
      "Epoch 25/100\n",
      "6/6 [==============================] - 2s 401ms/step - loss: 0.1667 - accuracy: 0.9583 - val_loss: 0.1516 - val_accuracy: 0.9583\n",
      "Epoch 26/100\n",
      "6/6 [==============================] - 2s 406ms/step - loss: 0.1543 - accuracy: 0.9688 - val_loss: 0.1089 - val_accuracy: 0.9583\n",
      "Epoch 27/100\n",
      "6/6 [==============================] - 2s 406ms/step - loss: 0.1412 - accuracy: 0.9688 - val_loss: 0.1575 - val_accuracy: 0.9583\n",
      "Epoch 28/100\n",
      "6/6 [==============================] - 2s 393ms/step - loss: 0.1411 - accuracy: 0.9792 - val_loss: 0.1543 - val_accuracy: 0.9583\n",
      "Epoch 29/100\n",
      "6/6 [==============================] - 2s 390ms/step - loss: 0.1505 - accuracy: 0.9688 - val_loss: 0.1754 - val_accuracy: 0.9375\n",
      "Epoch 30/100\n",
      "6/6 [==============================] - 2s 404ms/step - loss: 0.1268 - accuracy: 0.9792 - val_loss: 0.1060 - val_accuracy: 0.9583\n",
      "Epoch 31/100\n",
      "6/6 [==============================] - 2s 408ms/step - loss: 0.1341 - accuracy: 0.9531 - val_loss: 0.1394 - val_accuracy: 0.9583\n",
      "Epoch 32/100\n",
      "6/6 [==============================] - 2s 396ms/step - loss: 0.1091 - accuracy: 0.9740 - val_loss: 0.1345 - val_accuracy: 0.9583\n",
      "Epoch 33/100\n",
      "6/6 [==============================] - 2s 395ms/step - loss: 0.0732 - accuracy: 0.9948 - val_loss: 0.1438 - val_accuracy: 0.9583\n",
      "Epoch 34/100\n",
      "6/6 [==============================] - 2s 397ms/step - loss: 0.0951 - accuracy: 0.9896 - val_loss: 0.1243 - val_accuracy: 0.9583\n",
      "Epoch 35/100\n",
      "6/6 [==============================] - 2s 398ms/step - loss: 0.1491 - accuracy: 0.9635 - val_loss: 0.1682 - val_accuracy: 0.9583\n",
      "Epoch 36/100\n",
      "6/6 [==============================] - 2s 396ms/step - loss: 0.0749 - accuracy: 0.9896 - val_loss: 0.1593 - val_accuracy: 0.9583\n",
      "Epoch 37/100\n",
      "6/6 [==============================] - 2s 418ms/step - loss: 0.0884 - accuracy: 0.9792 - val_loss: 0.0795 - val_accuracy: 0.9792\n",
      "Epoch 38/100\n",
      "6/6 [==============================] - 2s 410ms/step - loss: 0.0776 - accuracy: 0.9844 - val_loss: 0.0968 - val_accuracy: 0.9583\n",
      "Epoch 39/100\n",
      "6/6 [==============================] - 2s 400ms/step - loss: 0.0565 - accuracy: 0.9896 - val_loss: 0.0784 - val_accuracy: 0.9583\n",
      "Epoch 40/100\n",
      "6/6 [==============================] - 2s 400ms/step - loss: 0.0988 - accuracy: 0.9635 - val_loss: 0.0435 - val_accuracy: 1.0000\n",
      "Epoch 41/100\n",
      "6/6 [==============================] - 2s 400ms/step - loss: 0.0576 - accuracy: 0.9896 - val_loss: 0.0586 - val_accuracy: 0.9792\n",
      "Epoch 42/100\n",
      "6/6 [==============================] - 2s 394ms/step - loss: 0.0604 - accuracy: 0.9792 - val_loss: 0.0933 - val_accuracy: 0.9792\n",
      "Epoch 43/100\n",
      "6/6 [==============================] - 2s 409ms/step - loss: 0.0490 - accuracy: 1.0000 - val_loss: 0.1335 - val_accuracy: 0.9583\n",
      "Epoch 44/100\n",
      "6/6 [==============================] - 2s 419ms/step - loss: 0.0658 - accuracy: 0.9896 - val_loss: 0.0990 - val_accuracy: 0.9583\n",
      "Epoch 45/100\n",
      "6/6 [==============================] - 2s 405ms/step - loss: 0.0549 - accuracy: 0.9896 - val_loss: 0.0895 - val_accuracy: 0.9583\n",
      "Epoch 46/100\n",
      "6/6 [==============================] - 2s 416ms/step - loss: 0.0518 - accuracy: 0.9896 - val_loss: 0.0716 - val_accuracy: 0.9792\n",
      "Epoch 47/100\n",
      "6/6 [==============================] - 2s 407ms/step - loss: 0.0551 - accuracy: 0.9844 - val_loss: 0.0839 - val_accuracy: 0.9583\n",
      "Epoch 48/100\n",
      "6/6 [==============================] - 2s 396ms/step - loss: 0.0571 - accuracy: 0.9896 - val_loss: 0.0551 - val_accuracy: 0.9792\n",
      "Epoch 49/100\n",
      "6/6 [==============================] - 2s 400ms/step - loss: 0.0619 - accuracy: 0.9792 - val_loss: 0.0547 - val_accuracy: 0.9583\n",
      "Epoch 50/100\n",
      "6/6 [==============================] - 2s 414ms/step - loss: 0.0373 - accuracy: 0.9948 - val_loss: 0.1640 - val_accuracy: 0.9583\n",
      "Epoch 51/100\n",
      "6/6 [==============================] - 2s 412ms/step - loss: 0.0405 - accuracy: 0.9896 - val_loss: 0.1574 - val_accuracy: 0.9583\n",
      "Epoch 52/100\n",
      "6/6 [==============================] - 2s 401ms/step - loss: 0.0641 - accuracy: 0.9844 - val_loss: 0.0976 - val_accuracy: 0.9583\n",
      "Epoch 53/100\n",
      "6/6 [==============================] - 2s 399ms/step - loss: 0.0600 - accuracy: 0.9896 - val_loss: 0.1139 - val_accuracy: 0.9583\n",
      "Epoch 54/100\n",
      "6/6 [==============================] - 3s 430ms/step - loss: 0.0595 - accuracy: 0.9844 - val_loss: 0.1472 - val_accuracy: 0.9583\n",
      "Epoch 55/100\n",
      "6/6 [==============================] - 3s 422ms/step - loss: 0.0603 - accuracy: 0.9792 - val_loss: 0.1440 - val_accuracy: 0.9583\n",
      "Epoch 56/100\n",
      "6/6 [==============================] - 2s 403ms/step - loss: 0.0456 - accuracy: 0.9844 - val_loss: 0.0806 - val_accuracy: 0.9583\n",
      "Epoch 57/100\n",
      "6/6 [==============================] - 2s 421ms/step - loss: 0.0247 - accuracy: 0.9948 - val_loss: 0.0572 - val_accuracy: 0.9583\n",
      "Epoch 58/100\n",
      "6/6 [==============================] - 2s 413ms/step - loss: 0.0360 - accuracy: 0.9896 - val_loss: 0.0398 - val_accuracy: 0.9792\n"
     ]
    },
    {
     "name": "stdout",
     "output_type": "stream",
     "text": [
      "Epoch 59/100\n",
      "6/6 [==============================] - 2s 399ms/step - loss: 0.0311 - accuracy: 1.0000 - val_loss: 0.0293 - val_accuracy: 1.0000\n",
      "Epoch 60/100\n",
      "6/6 [==============================] - 2s 404ms/step - loss: 0.0376 - accuracy: 0.9896 - val_loss: 0.1049 - val_accuracy: 0.9583\n",
      "Epoch 61/100\n",
      "6/6 [==============================] - 2s 397ms/step - loss: 0.0343 - accuracy: 0.9948 - val_loss: 0.1040 - val_accuracy: 0.9583\n",
      "Epoch 62/100\n",
      "6/6 [==============================] - 2s 398ms/step - loss: 0.0197 - accuracy: 0.9948 - val_loss: 0.0994 - val_accuracy: 0.9583\n",
      "Epoch 63/100\n",
      "6/6 [==============================] - 2s 404ms/step - loss: 0.0379 - accuracy: 0.9844 - val_loss: 0.0769 - val_accuracy: 0.9583\n",
      "Epoch 64/100\n",
      "6/6 [==============================] - 2s 421ms/step - loss: 0.0160 - accuracy: 1.0000 - val_loss: 0.0677 - val_accuracy: 0.9583\n",
      "Epoch 65/100\n",
      "6/6 [==============================] - 2s 400ms/step - loss: 0.0284 - accuracy: 1.0000 - val_loss: 0.0466 - val_accuracy: 0.9583\n",
      "Epoch 66/100\n",
      "6/6 [==============================] - 2s 405ms/step - loss: 0.0123 - accuracy: 1.0000 - val_loss: 0.0423 - val_accuracy: 1.0000\n",
      "Epoch 67/100\n",
      "6/6 [==============================] - 2s 402ms/step - loss: 0.0194 - accuracy: 0.9948 - val_loss: 0.0787 - val_accuracy: 0.9583\n",
      "Epoch 68/100\n",
      "6/6 [==============================] - 2s 403ms/step - loss: 0.0271 - accuracy: 0.9896 - val_loss: 0.1692 - val_accuracy: 0.9583\n",
      "Epoch 69/100\n",
      "6/6 [==============================] - 2s 402ms/step - loss: 0.0271 - accuracy: 1.0000 - val_loss: 0.1850 - val_accuracy: 0.9583\n",
      "Epoch 70/100\n",
      "6/6 [==============================] - 2s 424ms/step - loss: 0.0200 - accuracy: 1.0000 - val_loss: 0.0850 - val_accuracy: 0.9583\n",
      "Epoch 71/100\n",
      "6/6 [==============================] - 2s 418ms/step - loss: 0.0389 - accuracy: 0.9844 - val_loss: 0.0635 - val_accuracy: 0.9792\n",
      "Epoch 72/100\n",
      "6/6 [==============================] - 2s 403ms/step - loss: 0.0242 - accuracy: 0.9948 - val_loss: 0.0405 - val_accuracy: 0.9792\n",
      "Epoch 73/100\n",
      "6/6 [==============================] - 2s 396ms/step - loss: 0.0219 - accuracy: 0.9948 - val_loss: 0.0447 - val_accuracy: 1.0000\n",
      "Epoch 74/100\n",
      "6/6 [==============================] - 2s 402ms/step - loss: 0.0179 - accuracy: 1.0000 - val_loss: 0.0824 - val_accuracy: 0.9583\n",
      "Epoch 75/100\n",
      "6/6 [==============================] - 2s 401ms/step - loss: 0.0197 - accuracy: 0.9948 - val_loss: 0.0905 - val_accuracy: 0.9583\n",
      "Epoch 76/100\n",
      "6/6 [==============================] - 2s 399ms/step - loss: 0.0260 - accuracy: 0.9948 - val_loss: 0.1049 - val_accuracy: 0.9583\n",
      "Epoch 77/100\n",
      "6/6 [==============================] - 2s 421ms/step - loss: 0.0167 - accuracy: 1.0000 - val_loss: 0.1380 - val_accuracy: 0.9583\n",
      "Epoch 78/100\n",
      "6/6 [==============================] - 2s 410ms/step - loss: 0.0236 - accuracy: 0.9948 - val_loss: 0.1523 - val_accuracy: 0.9583\n",
      "Epoch 79/100\n",
      "6/6 [==============================] - 2s 405ms/step - loss: 0.0334 - accuracy: 0.9844 - val_loss: 0.1640 - val_accuracy: 0.9583\n",
      "Epoch 80/100\n",
      "6/6 [==============================] - 2s 404ms/step - loss: 0.0147 - accuracy: 1.0000 - val_loss: 0.1440 - val_accuracy: 0.9583\n",
      "Epoch 81/100\n",
      "6/6 [==============================] - 2s 402ms/step - loss: 0.0368 - accuracy: 0.9844 - val_loss: 0.1119 - val_accuracy: 0.9583\n",
      "Epoch 82/100\n",
      "6/6 [==============================] - 2s 401ms/step - loss: 0.0320 - accuracy: 0.9948 - val_loss: 0.1773 - val_accuracy: 0.9375\n",
      "Epoch 83/100\n",
      "6/6 [==============================] - 2s 417ms/step - loss: 0.0253 - accuracy: 0.9948 - val_loss: 0.1469 - val_accuracy: 0.9583\n",
      "Epoch 84/100\n",
      "6/6 [==============================] - 3s 425ms/step - loss: 0.0161 - accuracy: 0.9948 - val_loss: 0.1485 - val_accuracy: 0.9583\n",
      "Epoch 85/100\n",
      "6/6 [==============================] - 2s 408ms/step - loss: 0.0134 - accuracy: 1.0000 - val_loss: 0.1350 - val_accuracy: 0.9583\n",
      "Epoch 86/100\n",
      "6/6 [==============================] - 2s 408ms/step - loss: 0.0137 - accuracy: 0.9948 - val_loss: 0.1039 - val_accuracy: 0.9583\n",
      "Epoch 87/100\n",
      "6/6 [==============================] - 2s 408ms/step - loss: 0.0095 - accuracy: 1.0000 - val_loss: 0.0933 - val_accuracy: 0.9583\n",
      "Epoch 88/100\n",
      "6/6 [==============================] - 2s 402ms/step - loss: 0.0501 - accuracy: 0.9948 - val_loss: 0.0699 - val_accuracy: 0.9583\n",
      "Epoch 89/100\n",
      "6/6 [==============================] - 2s 405ms/step - loss: 0.0259 - accuracy: 0.9948 - val_loss: 0.1019 - val_accuracy: 0.9583\n",
      "Epoch 90/100\n",
      "6/6 [==============================] - 3s 428ms/step - loss: 0.0133 - accuracy: 1.0000 - val_loss: 0.1289 - val_accuracy: 0.9583\n",
      "Epoch 91/100\n",
      "6/6 [==============================] - 2s 410ms/step - loss: 0.0205 - accuracy: 1.0000 - val_loss: 0.0982 - val_accuracy: 0.9583\n",
      "Epoch 92/100\n",
      "6/6 [==============================] - 2s 403ms/step - loss: 0.0142 - accuracy: 1.0000 - val_loss: 0.0637 - val_accuracy: 0.9583\n",
      "Epoch 93/100\n",
      "6/6 [==============================] - 2s 412ms/step - loss: 0.0251 - accuracy: 0.9948 - val_loss: 0.0662 - val_accuracy: 0.9583\n",
      "Epoch 94/100\n",
      "6/6 [==============================] - 2s 409ms/step - loss: 0.0125 - accuracy: 0.9948 - val_loss: 0.1755 - val_accuracy: 0.9583\n",
      "Epoch 95/100\n",
      "6/6 [==============================] - 2s 407ms/step - loss: 0.0282 - accuracy: 0.9896 - val_loss: 0.1728 - val_accuracy: 0.9583\n",
      "Epoch 96/100\n",
      "6/6 [==============================] - 2s 409ms/step - loss: 0.0149 - accuracy: 0.9948 - val_loss: 0.1298 - val_accuracy: 0.9583\n",
      "Epoch 97/100\n",
      "6/6 [==============================] - 3s 423ms/step - loss: 0.0189 - accuracy: 0.9948 - val_loss: 0.1198 - val_accuracy: 0.9583\n",
      "Epoch 98/100\n",
      "6/6 [==============================] - 2s 403ms/step - loss: 0.0115 - accuracy: 1.0000 - val_loss: 0.0571 - val_accuracy: 0.9583\n",
      "Epoch 99/100\n",
      "6/6 [==============================] - 2s 402ms/step - loss: 0.0122 - accuracy: 1.0000 - val_loss: 0.0330 - val_accuracy: 1.0000\n",
      "Epoch 100/100\n",
      "6/6 [==============================] - 2s 406ms/step - loss: 0.0124 - accuracy: 1.0000 - val_loss: 0.0355 - val_accuracy: 1.0000\n"
     ]
    }
   ],
   "source": [
    "int_batch_size = 32\n",
    "history = model_cnn.fit(x = x_train, y = y_train,\n",
    "                        validation_data = (x_valid, y_valid),\n",
    "                        epochs = 100,\n",
    "                        batch_size = int_batch_size)"
   ]
  },
  {
   "cell_type": "code",
   "execution_count": 19,
   "metadata": {},
   "outputs": [
    {
     "name": "stdout",
     "output_type": "stream",
     "text": [
      "5/5 [==============================] - 1s 87ms/step - loss: 0.2152 - accuracy: 0.9375\n",
      "[Loss, Accuracy]: [0.21521611511707306, 0.9375]\n"
     ]
    }
   ],
   "source": [
    "# Check the accuracy using the test dataset\n",
    "cnn_eval = model_cnn.evaluate(x_test, label_y_test)\n",
    "print(\"[Loss, Accuracy]:\", cnn_eval)"
   ]
  },
  {
   "cell_type": "markdown",
   "metadata": {},
   "source": [
    "# 7. Plot the result"
   ]
  },
  {
   "cell_type": "code",
   "execution_count": 20,
   "metadata": {},
   "outputs": [
    {
     "name": "stdout",
     "output_type": "stream",
     "text": [
      "Confusion metrics accurracy: 0.925\n"
     ]
    }
   ],
   "source": [
    "label_y_predict = model_cnn.predict(x_test).round(0)\n",
    "print(\"Confusion metrics accurracy:\", accuracy_score(label_y_test, label_y_predict))"
   ]
  },
  {
   "cell_type": "code",
   "execution_count": 21,
   "metadata": {},
   "outputs": [
    {
     "data": {
      "image/png": "[encoded data removed]",
      "text/plain": [
       "<Figure size 432x288 with 2 Axes>"
      ]
     },
     "metadata": {
      "needs_background": "light"
     },
     "output_type": "display_data"
    }
   ],
   "source": [
    "mx_confusion = confusion_matrix(label_y_test.argmax(axis=1), label_y_predict.argmax(axis=1))\n",
    "df_confusion = DataFrame(mx_confusion)\n",
    "sns.heatmap(df_confusion, cmap='Blues', annot=True)\n",
    "plt.ylabel('expected')\n",
    "plt.xlabel('predicted')\n",
    "plt.show()"
   ]
  },
  {
   "cell_type": "markdown",
   "metadata": {},
   "source": [
    "# 8. Iterate the model until the accuracy is above 90%"
   ]
  },
  {
   "cell_type": "code",
   "execution_count": 22,
   "metadata": {},
   "outputs": [
    {
     "data": {
      "image/png": "[encoded data removed]",
      "text/plain": [
       "<Figure size 432x288 with 1 Axes>"
      ]
     },
     "metadata": {
      "needs_background": "light"
     },
     "output_type": "display_data"
    },
    {
     "data": {
      "image/png": "[encoded data removed]",
      "text/plain": [
       "<Figure size 432x288 with 1 Axes>"
      ]
     },
     "metadata": {
      "needs_background": "light"
     },
     "output_type": "display_data"
    }
   ],
   "source": [
    "# Plot the history for accuracy\n",
    "plt.plot(history.history['accuracy'])\n",
    "plt.plot(history.history['val_accuracy'])\n",
    "plt.title('Model Accuracy')\n",
    "plt.ylabel('accuracy')\n",
    "plt.xlabel('epoch')\n",
    "plt.legend(['train', 'validate'], loc='upper left')\n",
    "plt.show()\n",
    "\n",
    "# Plot the history for loss\n",
    "plt.plot(history.history['loss'])\n",
    "plt.plot(history.history['val_loss'])\n",
    "plt.title('Model Loss')\n",
    "plt.ylabel('loss')\n",
    "plt.xlabel('epoch')\n",
    "plt.legend(['train', 'validate'], loc='upper left')\n",
    "plt.show()"
   ]
  },
  {
   "cell_type": "markdown",
   "metadata": {},
   "source": [
    "The graphs are suggsting that 90% accuracy could be achieved with around 30 epochs."
   ]
  },
  {
   "cell_type": "code",
   "execution_count": 23,
   "metadata": {},
   "outputs": [],
   "source": [
    "# Define callback function to stop the iteration when accuracy is above 90%\n",
    "# 1. Model must be a generalized model ( testScore > trainScore )\n",
    "# 2. Model's Accuracy >= 90%\n",
    "class QualityThreshold(Callback):\n",
    "  def __init__(self, cl):\n",
    "    super(QualityThreshold, self).__init__()\n",
    "    self.cl = cl\n",
    "  \n",
    "  def on_epoch_end(self,epoch,logs=None):\n",
    "    testScore = logs['val_accuracy']\n",
    "    trainScore = logs['accuracy']\n",
    "\n",
    "    if (testScore > trainScore and trainScore >= self.cl and epoch > 5) or (testScore == 1 and epoch > 5):\n",
    "      self.model.stop_training = True"
   ]
  },
  {
   "cell_type": "code",
   "execution_count": 24,
   "metadata": {},
   "outputs": [],
   "source": [
    "model_new = Sequential()\n",
    "\n",
    "# i. Convolutional Layer\n",
    "model_new.add(Conv2D(filters = 32, kernel_size = (3,3), activation = 'relu', input_shape = (int_col, int_row, 1)))\n",
    "\n",
    "# ii. Pooling Layer\n",
    "model_new.add(MaxPooling2D(pool_size = (2,2)))\n",
    "model_new.add(Flatten())\n",
    "\n",
    "# iii. Fully Connected Layer\n",
    "model_new.add(Dense(512, activation = 'relu'))\n",
    "model_new.add(Dropout(0.25))\n",
    "model_new.add(Dense(128, activation = 'relu'))\n",
    "model_new.add(Dropout(0.25))\n",
    "model_new.add(Dense(20, activation='softmax'))\n",
    "\n",
    "model_new.compile(optimizer = 'adam',\n",
    "              loss='categorical_crossentropy',\n",
    "              metrics=['accuracy'])"
   ]
  },
  {
   "cell_type": "code",
   "execution_count": 25,
   "metadata": {},
   "outputs": [
    {
     "name": "stdout",
     "output_type": "stream",
     "text": [
      "Epoch 1/100\n",
      "6/6 [==============================] - 3s 440ms/step - loss: 8.2351 - accuracy: 0.0625 - val_loss: 4.3020 - val_accuracy: 0.0208\n",
      "Epoch 2/100\n",
      "6/6 [==============================] - 2s 404ms/step - loss: 4.8794 - accuracy: 0.0469 - val_loss: 3.1002 - val_accuracy: 0.0417\n",
      "Epoch 3/100\n",
      "6/6 [==============================] - 2s 401ms/step - loss: 3.4077 - accuracy: 0.1250 - val_loss: 2.9615 - val_accuracy: 0.1458\n",
      "Epoch 4/100\n",
      "6/6 [==============================] - 2s 401ms/step - loss: 3.0374 - accuracy: 0.0938 - val_loss: 2.9444 - val_accuracy: 0.1667\n",
      "Epoch 5/100\n",
      "6/6 [==============================] - 2s 397ms/step - loss: 2.9131 - accuracy: 0.0573 - val_loss: 2.8185 - val_accuracy: 0.2917\n",
      "Epoch 6/100\n",
      "6/6 [==============================] - 2s 403ms/step - loss: 2.7375 - accuracy: 0.1979 - val_loss: 2.6536 - val_accuracy: 0.2500\n",
      "Epoch 7/100\n",
      "6/6 [==============================] - 2s 403ms/step - loss: 2.5970 - accuracy: 0.2552 - val_loss: 2.3981 - val_accuracy: 0.3750\n",
      "Epoch 8/100\n",
      "6/6 [==============================] - 2s 423ms/step - loss: 2.3675 - accuracy: 0.3125 - val_loss: 2.1859 - val_accuracy: 0.3958\n",
      "Epoch 9/100\n",
      "6/6 [==============================] - 2s 406ms/step - loss: 2.0475 - accuracy: 0.4115 - val_loss: 1.9242 - val_accuracy: 0.5208\n",
      "Epoch 10/100\n",
      "6/6 [==============================] - 2s 400ms/step - loss: 1.7503 - accuracy: 0.4896 - val_loss: 1.5892 - val_accuracy: 0.6875\n",
      "Epoch 11/100\n",
      "6/6 [==============================] - 2s 399ms/step - loss: 1.6091 - accuracy: 0.5104 - val_loss: 1.4326 - val_accuracy: 0.5417\n",
      "Epoch 12/100\n",
      "6/6 [==============================] - 2s 401ms/step - loss: 1.2729 - accuracy: 0.6510 - val_loss: 1.0468 - val_accuracy: 0.8958\n",
      "Epoch 13/100\n",
      "6/6 [==============================] - 2s 399ms/step - loss: 1.1259 - accuracy: 0.6406 - val_loss: 0.9534 - val_accuracy: 0.8750\n",
      "Epoch 14/100\n",
      "6/6 [==============================] - 2s 406ms/step - loss: 0.9394 - accuracy: 0.7083 - val_loss: 0.7101 - val_accuracy: 0.9583\n",
      "Epoch 15/100\n",
      "6/6 [==============================] - 3s 425ms/step - loss: 0.6903 - accuracy: 0.8177 - val_loss: 0.5431 - val_accuracy: 0.9583\n",
      "Epoch 16/100\n",
      "6/6 [==============================] - 2s 404ms/step - loss: 0.5862 - accuracy: 0.8802 - val_loss: 0.3941 - val_accuracy: 0.9583\n",
      "Epoch 17/100\n",
      "6/6 [==============================] - 2s 396ms/step - loss: 0.4663 - accuracy: 0.8646 - val_loss: 0.3743 - val_accuracy: 0.9583\n",
      "Epoch 18/100\n",
      "6/6 [==============================] - 2s 401ms/step - loss: 0.3988 - accuracy: 0.8802 - val_loss: 0.3384 - val_accuracy: 0.9583\n",
      "Epoch 19/100\n",
      "6/6 [==============================] - 2s 403ms/step - loss: 0.3488 - accuracy: 0.9062 - val_loss: 0.2526 - val_accuracy: 0.9583\n"
     ]
    },
    {
     "data": {
      "text/plain": [
       "<tensorflow.python.keras.callbacks.History at 0x17f0b479b48>"
      ]
     },
     "execution_count": 25,
     "metadata": {},
     "output_type": "execute_result"
    }
   ],
   "source": [
    "model_new.fit(x = x_train, y = y_train,\n",
    "              validation_data = (x_valid, y_valid),\n",
    "              epochs = 100,\n",
    "              batch_size = int_batch_size,\n",
    "              callbacks=[QualityThreshold(0.9)])"
   ]
  },
  {
   "cell_type": "code",
   "execution_count": 26,
   "metadata": {},
   "outputs": [
    {
     "name": "stdout",
     "output_type": "stream",
     "text": [
      "5/5 [==============================] - 1s 87ms/step - loss: 0.4714 - accuracy: 0.9187\n",
      "[Loss, Accuracy]: [0.47139424085617065, 0.918749988079071]\n"
     ]
    }
   ],
   "source": [
    "# Check the accuracy using the test dataset\n",
    "new_eval = model_new.evaluate(x_test, label_y_test)\n",
    "print(\"[Loss, Accuracy]:\", new_eval)"
   ]
  },
  {
   "cell_type": "markdown",
   "metadata": {},
   "source": [
    "As oberved, with around 20 epochs it is able to achieve 90% accuracy and the similar accuracy is also achieved on test dataset."
   ]
  }
 ],
 "metadata": {
  "kernelspec": {
   "display_name": "Python 3",
   "language": "python",
   "name": "python3"
  },
  "language_info": {
   "codemirror_mode": {
    "name": "ipython",
    "version": 3
   },
   "file_extension": ".py",
   "mimetype": "text/x-python",
   "name": "python",
   "nbconvert_exporter": "python",
   "pygments_lexer": "ipython3",
   "version": "3.7.6"
  }
 },
 "nbformat": 4,
 "nbformat_minor": 4
}
